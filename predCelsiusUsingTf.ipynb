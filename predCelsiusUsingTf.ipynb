{
  "nbformat": 4,
  "nbformat_minor": 0,
  "metadata": {
    "colab": {
      "name": "Predicting Celsius using TF.ipynb",
      "provenance": [],
      "authorship_tag": "ABX9TyOqFes4dDrpDSz4YsylTfPE",
      "include_colab_link": true
    },
    "kernelspec": {
      "name": "python3",
      "display_name": "Python 3"
    },
    "language_info": {
      "name": "python"
    }
  },
  "cells": [
    {
      "cell_type": "markdown",
      "metadata": {
        "id": "view-in-github",
        "colab_type": "text"
      },
      "source": [
        "<a href=\"https://colab.research.google.com/github/dikshap07/ML-Algorithms/blob/master/Predicting_Celsius_using_TF.ipynb\" target=\"_parent\"><img src=\"https://colab.research.google.com/assets/colab-badge.svg\" alt=\"Open In Colab\"/></a>"
      ]
    },
    {
      "cell_type": "code",
      "metadata": {
        "id": "LLqSwpVR6mUK"
      },
      "source": [
        "import tensorflow as tf\n",
        "tf.compat.v1.logging.set_verbosity(tf.compat.v1.logging.ERROR)\n",
        " \n",
        "import numpy as np"
      ],
      "execution_count": 1,
      "outputs": []
    },
    {
      "cell_type": "markdown",
      "metadata": {
        "id": "fQqPLwzvTRHE"
      },
      "source": [
        "###setting up training data "
      ]
    },
    {
      "cell_type": "code",
      "metadata": {
        "id": "WfEtPApuQWoS",
        "colab": {
          "base_uri": "https://localhost:8080/"
        },
        "outputId": "e88b6caf-d6fe-4741-96f8-c75e4e2c18cf"
      },
      "source": [
        "celsius_g = np.array([-40, -10,0,0,15,22,38],dtype = float)\n",
        "fahrenhait_a = np.array([-40,14,32,46,59,72,100],dtype = float)\n",
        "\n",
        "for i,c in enumerate(celsius_g):\n",
        "  print(\"{} in degree Celsius = {} degree Fahrenhait\".format(c, fahrenhait_a[i]))"
      ],
      "execution_count": 2,
      "outputs": [
        {
          "output_type": "stream",
          "text": [
            "-40.0 in degree Celsius = -40.0 degree Fahrenhait\n",
            "-10.0 in degree Celsius = 14.0 degree Fahrenhait\n",
            "0.0 in degree Celsius = 32.0 degree Fahrenhait\n",
            "0.0 in degree Celsius = 46.0 degree Fahrenhait\n",
            "15.0 in degree Celsius = 59.0 degree Fahrenhait\n",
            "22.0 in degree Celsius = 72.0 degree Fahrenhait\n",
            "38.0 in degree Celsius = 100.0 degree Fahrenhait\n"
          ],
          "name": "stdout"
        }
      ]
    },
    {
      "cell_type": "markdown",
      "metadata": {
        "id": "emlYy2jCNTxg"
      },
      "source": [
        "##Creating the Model\n"
      ]
    },
    {
      "cell_type": "markdown",
      "metadata": {
        "id": "NoCjvG4PNXqN"
      },
      "source": [
        "###Building a layer"
      ]
    },
    {
      "cell_type": "code",
      "metadata": {
        "id": "6P43J3Net0ot"
      },
      "source": [
        "#we are only creating one dense layer\n",
        "layer0 = tf.keras.layers.Dense(units=1, input_shape = [1] )   #input_shape = 1:specifiers that input to this layer is a single value(1-D aaray with 1 memeber) these are the celsius degrees coming in \n",
        "                                                              #units specify the number of internal variables in layer or neurons (internal variables are to be learmt by the layer to solve the problem)"
      ],
      "execution_count": 3,
      "outputs": []
    },
    {
      "cell_type": "markdown",
      "metadata": {
        "id": "JfEFGw3MOTK3"
      },
      "source": [
        "###Assembling layers into the model"
      ]
    },
    {
      "cell_type": "code",
      "metadata": {
        "id": "xvm4m6YzOSUt"
      },
      "source": [
        "model = tf.keras.Sequential([layer0])\n",
        "#or\n",
        "#model = tf.keras.Sequential([tf.keras.layers.Dense(units=1, input_shape = [1] ) ])"
      ],
      "execution_count": 4,
      "outputs": []
    },
    {
      "cell_type": "markdown",
      "metadata": {
        "id": "eqiGc_NqOwdS"
      },
      "source": [
        "###Compiling teh model with Loss function and Optimizer function"
      ]
    },
    {
      "cell_type": "code",
      "metadata": {
        "id": "ay4SW3HFOtRb"
      },
      "source": [
        "model.compile(loss = 'mean_squared_error',\n",
        "              optimizer = tf.keras.optimizers.Adam(0.1))  #using Adams's optimizer and 0.1 learning rate(can be btw 0.1- 0.001)"
      ],
      "execution_count": 6,
      "outputs": []
    },
    {
      "cell_type": "markdown",
      "metadata": {
        "id": "EERKambKQufj"
      },
      "source": [
        "###Train the model"
      ]
    },
    {
      "cell_type": "code",
      "metadata": {
        "colab": {
          "base_uri": "https://localhost:8080/"
        },
        "id": "nQ5JE1SNQIam",
        "outputId": "9888b2aa-4efa-4456-f5fe-69ef5436af32"
      },
      "source": [
        "history = model.fit(celsius_g,fahrenhait_a,epochs = 500,verbose = False) #verbose: controls how much output the method produces\n",
        "print(\"Finished training the model\")"
      ],
      "execution_count": 11,
      "outputs": [
        {
          "output_type": "stream",
          "text": [
            "Finished training the model\n"
          ],
          "name": "stdout"
        }
      ]
    },
    {
      "cell_type": "markdown",
      "metadata": {
        "id": "iOIbY_TsRf3t"
      },
      "source": [
        "###Displaying training stats\n"
      ]
    },
    {
      "cell_type": "code",
      "metadata": {
        "colab": {
          "base_uri": "https://localhost:8080/",
          "height": 297
        },
        "id": "pYkmvSmTRAwo",
        "outputId": "682f193e-4eb4-4cc0-cb0a-0b5ebcdfc51c"
      },
      "source": [
        "import matplotlib.pyplot as plt\n",
        "plt.xlabel('Epoch Number')\n",
        "plt.ylabel('loss magnitude')\n",
        "plt.plot(history.history['loss'])"
      ],
      "execution_count": 17,
      "outputs": [
        {
          "output_type": "execute_result",
          "data": {
            "text/plain": [
              "[<matplotlib.lines.Line2D at 0x7f2f6ec44390>]"
            ]
          },
          "metadata": {
            "tags": []
          },
          "execution_count": 17
        },
        {
          "output_type": "display_data",
          "data": {
            "image/png": "[encoded data removed]",
            "text/plain": [
              "<Figure size 432x288 with 1 Axes>"
            ]
          },
          "metadata": {
            "tags": [],
            "needs_background": "light"
          }
        }
      ]
    },
    {
      "cell_type": "markdown",
      "metadata": {
        "id": "cXj1bO0MSVSJ"
      },
      "source": [
        "###Using model to predict values"
      ]
    },
    {
      "cell_type": "code",
      "metadata": {
        "colab": {
          "base_uri": "https://localhost:8080/"
        },
        "id": "eZehRHheR5W0",
        "outputId": "9a9b17ed-4e3a-4ba1-be66-3a2d9c57198f"
      },
      "source": [
        "print(model.predict([100.0]))"
      ],
      "execution_count": 18,
      "outputs": [
        {
          "output_type": "stream",
          "text": [
            "[[212.24088]]\n"
          ],
          "name": "stdout"
        }
      ]
    },
    {
      "cell_type": "markdown",
      "metadata": {
        "id": "scNbid1XSwfy"
      },
      "source": [
        "###Looking at layer weights"
      ]
    },
    {
      "cell_type": "code",
      "metadata": {
        "colab": {
          "base_uri": "https://localhost:8080/"
        },
        "id": "rJF-OAOdSfIG",
        "outputId": "7f5b214a-8858-4b16-97f1-54d16a4947a9"
      },
      "source": [
        "print(\"These are the layer variables : {}\".format(layer0.get_weights()))"
      ],
      "execution_count": 19,
      "outputs": [
        {
          "output_type": "stream",
          "text": [
            "These are the layer variables : [array([[1.7910528]], dtype=float32), array([33.135586], dtype=float32)]\n"
          ],
          "name": "stdout"
        }
      ]
    },
    {
      "cell_type": "markdown",
      "metadata": {
        "id": "EqIPkP3DTeyX"
      },
      "source": [
        "#Trying with 3 layers"
      ]
    },
    {
      "cell_type": "code",
      "metadata": {
        "colab": {
          "base_uri": "https://localhost:8080/"
        },
        "id": "VOJVJSFhS5vx",
        "outputId": "5cdf2786-afce-48c6-ca37-106d23b422f5"
      },
      "source": [
        "layer1 = tf.keras.layers.Dense(units = 4, input_shape = [1])\n",
        "layer2 = tf.keras.layers.Dense(units = 4, input_shape = [1])\n",
        "layer3 = tf.keras.layers.Dense(units = 1, input_shape= [1])\n",
        "\n",
        "model_l = tf.keras.Sequential([layer1,layer2,layer3])\n",
        "\n",
        "model_l.compile(loss = 'mean_squared_error',optimizer = tf.keras.optimizers.Adam(0.1))\n",
        "history_l = model_l.fit(celsius_g,fahrenhait_a,epochs = 500,verbose = False) #verbose: controls how much output the method produces\n",
        "print(\"Finished training layered model\")\n",
        "\n",
        "print(model_l.predict([100.0]))\n",
        "print(\"Model predicts that 100 degrees Celsius is: {} degrees Fahrenheit\".format(model_l.predict([100.0])))\n",
        "print(\"These are the l0 variables: {}\".format(layer1.get_weights()))\n",
        "print(\"These are the l1 variables: {}\".format(layer2.get_weights()))\n",
        "print(\"These are the l2 variables: {}\".format(layer3.get_weights()))"
      ],
      "execution_count": 24,
      "outputs": [
        {
          "output_type": "stream",
          "text": [
            "Finished training layered model\n",
            "[[212.55495]]\n",
            "Model predicts that 100 degrees Celsius is: [[212.55495]] degrees Fahrenheit\n",
            "These are the l0 variables: [array([[ 0.06087496,  0.03200314, -0.7706542 , -0.23801383]],\n",
            "      dtype=float32), array([-1.6209615, -2.7074456, -2.9773312, -2.8854752], dtype=float32)]\n",
            "These are the l1 variables: [array([[ 0.9031543 , -0.50469375,  0.01968811, -0.58759475],\n",
            "       [ 0.53594977, -1.3862189 ,  1.3888621 , -0.300544  ],\n",
            "       [-0.2239405 , -0.86770165,  0.99902034, -0.5331422 ],\n",
            "       [ 0.3615354 , -0.6905006 ,  0.9359135 ,  0.19655176]],\n",
            "      dtype=float32), array([-0.81500024,  3.0218449 , -3.0441163 ,  2.8141568 ], dtype=float32)]\n",
            "These are the l2 variables: [array([[-0.60439646],\n",
            "       [ 0.97767186],\n",
            "       [-0.80346024],\n",
            "       [ 1.1891669 ]], dtype=float32), array([2.9621055], dtype=float32)]\n"
          ],
          "name": "stdout"
        }
      ]
    },
    {
      "cell_type": "code",
      "metadata": {
        "id": "agTIqSxYUyCI"
      },
      "source": [
        ""
      ],
      "execution_count": null,
      "outputs": []
    }
  ]
}