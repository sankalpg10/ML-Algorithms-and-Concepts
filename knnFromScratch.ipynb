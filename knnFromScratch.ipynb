{
  "nbformat": 4,
  "nbformat_minor": 0,
  "metadata": {
    "colab": {
      "name": "KNN FROM SCRATCH (Random small dataset).ipynb",
      "provenance": [],
      "collapsed_sections": []
    },
    "kernelspec": {
      "name": "python3",
      "display_name": "Python 3"
    }
  },
  "cells": [
    {
      "cell_type": "code",
      "metadata": {
        "id": "KazdWxDZx13W",
        "colab_type": "code",
        "colab": {}
      },
      "source": [
        "#to calculate similarity btw two classes we calculate the eucladian distance btw evert value in 2 rows\"\n",
        "from math import sqrt\n",
        "def eucladian_distance(row1,row2):\n",
        "\n",
        "  distance = 0.0\n",
        "\n",
        "  for i in range(len(row1)-1):\n",
        "\n",
        "    distance = distance + ((row1[i] - row2[i])**2)  #subtracting elements of row 1 with corresponding elements of row2\n",
        "  \n",
        "\n",
        "    e_dist =  sqrt(distance)\n",
        "    \n",
        "  return e_dist"
      ],
      "execution_count": null,
      "outputs": []
    },
    {
      "cell_type": "code",
      "metadata": {
        "id": "HQi4jD-T27wP",
        "colab_type": "code",
        "colab": {
          "base_uri": "https://localhost:8080/",
          "height": 187
        },
        "outputId": "131ed08b-0ef3-423f-fc5a-da4f60e25035"
      },
      "source": [
        "#testing for a small dataset\n",
        "\n",
        "small_dataset = [[2.7810836,2.550537003,0],\n",
        "\t[1.465489372,2.362125076,0],\n",
        "\t[3.396561688,4.400293529,0],\n",
        "\t[1.38807019,1.850220317,0],\n",
        "\t[3.06407232,3.005305973,0],\n",
        "\t[7.627531214,2.759262235,1],\n",
        "\t[5.332441248,2.088626775,1],\n",
        "\t[6.922596716,1.77106367,1],\n",
        "\t[8.675418651,-0.242068655,1],\n",
        "\t[7.673756466,3.508563011,1]]\n",
        "\n",
        "row0 = small_dataset[0]\n",
        "for row in small_dataset:\n",
        "  \n",
        "  e_distance = eucladian_distance(row0,row)\n",
        "  print(e_distance)\n"
      ],
      "execution_count": null,
      "outputs": [
        {
          "output_type": "stream",
          "text": [
            "0.0\n",
            "1.3290173915275787\n",
            "1.9494646655653247\n",
            "1.5591439385540549\n",
            "0.5356280721938492\n",
            "4.850940186986411\n",
            "2.592833759950511\n",
            "4.214227042632867\n",
            "6.522409988228337\n",
            "4.985585382449795\n"
          ],
          "name": "stdout"
        }
      ]
    },
    {
      "cell_type": "code",
      "metadata": {
        "id": "hmAeLMVr4Clx",
        "colab_type": "code",
        "colab": {}
      },
      "source": [
        "#function to locate neighbours: keeping track of distance of each row in a tuple, sort the list of tuples in ascending order(will use top k)\n",
        "#, and use them as neighbours\n",
        "\n",
        "\n",
        "def get_neighbours(train, test_row, n_neighbors): #train: dataset used for training ; test_row: row from which we will calculate the distance from\n",
        "                                                    #n_neighbors: no of neighbors which we need\n",
        "\n",
        "    distances = list()        \n",
        "\n",
        "    for train_row in train:\n",
        "\n",
        "      dist = eucladian_distance(test_row,train_row)\n",
        "\n",
        "      distances.append((train_row,dist))   #to append row values and the distance as tuple \n",
        "\n",
        "      print(\"appended_distances: \",distances)\n",
        "    distances.sort(key = lambda x : x[1])\n",
        "\n",
        "    #print('distances:',distances)\n",
        "\n",
        "    neighbors = list()\n",
        "\n",
        "    for i in range(n_neighbors):\n",
        "      neighbors.append(distances[i][0])\n",
        "    return neighbors\n",
        "\n"
      ],
      "execution_count": null,
      "outputs": []
    },
    {
      "cell_type": "code",
      "metadata": {
        "id": "HOipYuRr8Phs",
        "colab_type": "code",
        "colab": {}
      },
      "source": [
        "\n",
        "#testing the get_neighbors function:\n",
        "\n",
        "small_dataset = [[1.465489372,2.362125076,0],\n",
        "\t[3.396561688,4.400293529,0],\n",
        "\t[1.38807019,1.850220317,0],\n",
        "\t[3.06407232,3.005305973,0],\n",
        "\t[7.627531214,2.759262235,1],\n",
        "\t[5.332441248,2.088626775,1],\n",
        "\t[6.922596716,1.77106367,1],\n",
        "\t[8.675418651,-0.242068655,1],\n",
        "\t[7.673756466,3.508563011,1]]"
      ],
      "execution_count": null,
      "outputs": []
    },
    {
      "cell_type": "code",
      "metadata": {
        "id": "lPZzC8tM8gyf",
        "colab_type": "code",
        "colab": {
          "base_uri": "https://localhost:8080/",
          "height": 241
        },
        "outputId": "458b5974-aa70-406b-c382-f191c8a9eda7"
      },
      "source": [
        "test_row = [2.7810836,2.550537003,0]\n",
        "\n",
        "neighbors = get_neighbours(small_dataset,test_row,3)\n",
        "\n",
        "#print(neighbors)\n",
        "for neighbor in neighbors:\n",
        "  print(neighbor) "
      ],
      "execution_count": null,
      "outputs": [
        {
          "output_type": "stream",
          "text": [
            "appended_distances:  [([1.465489372, 2.362125076, 0], 1.3290173915275787)]\n",
            "appended_distances:  [([1.465489372, 2.362125076, 0], 1.3290173915275787), ([3.396561688, 4.400293529, 0], 1.9494646655653247)]\n",
            "appended_distances:  [([1.465489372, 2.362125076, 0], 1.3290173915275787), ([3.396561688, 4.400293529, 0], 1.9494646655653247), ([1.38807019, 1.850220317, 0], 1.5591439385540549)]\n",
            "appended_distances:  [([1.465489372, 2.362125076, 0], 1.3290173915275787), ([3.396561688, 4.400293529, 0], 1.9494646655653247), ([1.38807019, 1.850220317, 0], 1.5591439385540549), ([3.06407232, 3.005305973, 0], 0.5356280721938492)]\n",
            "appended_distances:  [([1.465489372, 2.362125076, 0], 1.3290173915275787), ([3.396561688, 4.400293529, 0], 1.9494646655653247), ([1.38807019, 1.850220317, 0], 1.5591439385540549), ([3.06407232, 3.005305973, 0], 0.5356280721938492), ([7.627531214, 2.759262235, 1], 4.850940186986411)]\n",
            "appended_distances:  [([1.465489372, 2.362125076, 0], 1.3290173915275787), ([3.396561688, 4.400293529, 0], 1.9494646655653247), ([1.38807019, 1.850220317, 0], 1.5591439385540549), ([3.06407232, 3.005305973, 0], 0.5356280721938492), ([7.627531214, 2.759262235, 1], 4.850940186986411), ([5.332441248, 2.088626775, 1], 2.592833759950511)]\n",
            "appended_distances:  [([1.465489372, 2.362125076, 0], 1.3290173915275787), ([3.396561688, 4.400293529, 0], 1.9494646655653247), ([1.38807019, 1.850220317, 0], 1.5591439385540549), ([3.06407232, 3.005305973, 0], 0.5356280721938492), ([7.627531214, 2.759262235, 1], 4.850940186986411), ([5.332441248, 2.088626775, 1], 2.592833759950511), ([6.922596716, 1.77106367, 1], 4.214227042632867)]\n",
            "appended_distances:  [([1.465489372, 2.362125076, 0], 1.3290173915275787), ([3.396561688, 4.400293529, 0], 1.9494646655653247), ([1.38807019, 1.850220317, 0], 1.5591439385540549), ([3.06407232, 3.005305973, 0], 0.5356280721938492), ([7.627531214, 2.759262235, 1], 4.850940186986411), ([5.332441248, 2.088626775, 1], 2.592833759950511), ([6.922596716, 1.77106367, 1], 4.214227042632867), ([8.675418651, -0.242068655, 1], 6.522409988228337)]\n",
            "appended_distances:  [([1.465489372, 2.362125076, 0], 1.3290173915275787), ([3.396561688, 4.400293529, 0], 1.9494646655653247), ([1.38807019, 1.850220317, 0], 1.5591439385540549), ([3.06407232, 3.005305973, 0], 0.5356280721938492), ([7.627531214, 2.759262235, 1], 4.850940186986411), ([5.332441248, 2.088626775, 1], 2.592833759950511), ([6.922596716, 1.77106367, 1], 4.214227042632867), ([8.675418651, -0.242068655, 1], 6.522409988228337), ([7.673756466, 3.508563011, 1], 4.985585382449795)]\n",
            "[3.06407232, 3.005305973, 0]\n",
            "[1.465489372, 2.362125076, 0]\n",
            "[1.38807019, 1.850220317, 0]\n"
          ],
          "name": "stdout"
        }
      ]
    },
    {
      "cell_type": "code",
      "metadata": {
        "id": "GjyFmw8d8w__",
        "colab_type": "code",
        "colab": {}
      },
      "source": [
        "#we can make prediction by getting the max class from the above neighbors\n",
        "\n",
        "def predict_classification(train,test_row,n_neighnors):\n",
        "  neighbors = get_neighbours(train,test_row,n_neighbors)\n",
        "  output_values = [row[-1] for row in neighbors]\n",
        "  prediction = max(set(output_values), key=output_values.count)\n",
        "  return prediction"
      ],
      "execution_count": null,
      "outputs": []
    },
    {
      "cell_type": "code",
      "metadata": {
        "id": "l_obe1HwYnTA",
        "colab_type": "code",
        "colab": {}
      },
      "source": [
        "small_dataset = [[2.7810836,2.550537003,0],\n",
        "\t[1.465489372,2.362125076,0],\n",
        "\t[3.396561688,4.400293529,0],\n",
        "\t[1.38807019,1.850220317,0],\n",
        "\t[3.06407232,3.005305973,0],\n",
        "\t[7.627531214,2.759262235,1],\n",
        "\t[5.332441248,2.088626775,1],\n",
        "\t[6.922596716,1.77106367,1],\n",
        "\t[8.675418651,-0.242068655,1],\n",
        "\t[7.673756466,3.508563011,1]]"
      ],
      "execution_count": null,
      "outputs": []
    },
    {
      "cell_type": "code",
      "metadata": {
        "id": "Y_uSLh--Y16v",
        "colab_type": "code",
        "colab": {}
      },
      "source": [
        "from math import sqrt\n",
        "def eucladian_distance(row1,row2):\n",
        "\n",
        "  distance = 0.0\n",
        "\n",
        "  for i in range(len(row1)-1):\n",
        "\n",
        "    distance = distance + ((row1[i] - row2[i])**2)\n",
        "\n",
        "    e_dist =  sqrt(distance)\n",
        "    \n",
        "  return e_dist\n",
        "\n",
        "\n",
        "\n",
        "def get_neighbours(train, test_row, n_neighbors): #train: dataset used for training ; test_row: row from which we will calculate the distance from\n",
        "                                                    #n_neighbors: no of neighbors which we need\n",
        "\n",
        "    distances = list()        \n",
        "\n",
        "    for train_row in train:\n",
        "\n",
        "      dist = eucladian_distance(test_row,train_row)\n",
        "\n",
        "      distances.append((train_row,dist))   #to append row values and the distance as tuple \n",
        "\n",
        "      #print(\"appended_distances: \",distances)\n",
        "    distances.sort(key = lambda x : x[1])\n",
        "\n",
        "    #print('distances:',distances)\n",
        "\n",
        "    neighbors = list()\n",
        "\n",
        "    for i in range(n_neighbors):\n",
        "      neighbors.append(distances[i][0])\n",
        "    return neighbors\n",
        "\n",
        "def predict_classification(train,test_row,n_neighbors):\n",
        "  neighbors = get_neighbours(train,test_row,n_neighbors)\n",
        "  output_values = [row[-1] for row in neighbors]\n",
        "  prediction = max(set(output_values), key=output_values.count)\n",
        "  return prediction"
      ],
      "execution_count": null,
      "outputs": []
    },
    {
      "cell_type": "code",
      "metadata": {
        "id": "pLLNXesjZI8w",
        "colab_type": "code",
        "colab": {
          "base_uri": "https://localhost:8080/",
          "height": 35
        },
        "outputId": "0ed4092b-ad31-4aae-e7d7-59254377e5e4"
      },
      "source": [
        "prediction = predict_classification(small_dataset,small_dataset[0],3)\n",
        "\n",
        "print (\"Expected {} got {}\".format(small_dataset[0][2],prediction))"
      ],
      "execution_count": null,
      "outputs": [
        {
          "output_type": "stream",
          "text": [
            "Expected 0 got 0\n"
          ],
          "name": "stdout"
        }
      ]
    },
    {
      "cell_type": "code",
      "metadata": {
        "id": "Q8AGw5CZZQd-",
        "colab_type": "code",
        "colab": {}
      },
      "source": [
        ""
      ],
      "execution_count": null,
      "outputs": []
    }
  ]
}