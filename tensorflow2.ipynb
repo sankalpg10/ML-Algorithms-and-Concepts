{
  "nbformat": 4,
  "nbformat_minor": 0,
  "metadata": {
    "colab": {
      "name": "Tensorflow_2.0.ipynb",
      "provenance": [],
      "authorship_tag": "ABX9TyPogdftDvdqJzvwVTli3qZV",
      "include_colab_link": true
    },
    "kernelspec": {
      "name": "python3",
      "display_name": "Python 3"
    },
    "language_info": {
      "name": "python"
    }
  },
  "cells": [
    {
      "cell_type": "markdown",
      "metadata": {
        "id": "view-in-github",
        "colab_type": "text"
      },
      "source": [
        "<a href=\"https://colab.research.google.com/github/dikshap07/ML-Algorithms/blob/master/Tensorflow_2_0.ipynb\" target=\"_parent\"><img src=\"https://colab.research.google.com/assets/colab-badge.svg\" alt=\"Open In Colab\"/></a>"
      ]
    },
    {
      "cell_type": "code",
      "metadata": {
        "id": "LLqSwpVR6mUK"
      },
      "source": [
        "import tensorflow as tf\n",
        "tf.compat.v1.logging.set_verbosity(tf.compat.v1.logging.ERROR)\n",
        " \n",
        "import numpy as np"
      ],
      "execution_count": null,
      "outputs": []
    },
    {
      "cell_type": "markdown",
      "metadata": {
        "id": "fQqPLwzvTRHE"
      },
      "source": [
        "###setting up training data "
      ]
    },
    {
      "cell_type": "code",
      "metadata": {
        "id": "WfEtPApuQWoS",
        "colab": {
          "base_uri": "https://localhost:8080/"
        },
        "outputId": "380774d0-ab69-489a-ff5c-68413b9ef891"
      },
      "source": [
        "celsius_g = np.array([-40, -10,0,0,15,22,38],dtype = float)\n",
        "fahrenhait_a = np.array([-40,14,32,46,59,72,100],dtype = float)\n",
        "\n",
        "for i,c in enumerate(celsius_g):\n",
        "  print(\"{} in degree Celsius = {} degree Fahrenhait\".format(c, fahrenhait_a[i]))"
      ],
      "execution_count": null,
      "outputs": [
        {
          "output_type": "stream",
          "text": [
            "-40.0 in degree Celsius = -40.0 degree Fahrenhait\n",
            "-10.0 in degree Celsius = 14.0 degree Fahrenhait\n",
            "0.0 in degree Celsius = 32.0 degree Fahrenhait\n",
            "0.0 in degree Celsius = 46.0 degree Fahrenhait\n",
            "15.0 in degree Celsius = 59.0 degree Fahrenhait\n",
            "22.0 in degree Celsius = 72.0 degree Fahrenhait\n",
            "38.0 in degree Celsius = 100.0 degree Fahrenhait\n"
          ],
          "name": "stdout"
        }
      ]
    },
    {
      "cell_type": "code",
      "metadata": {
        "id": "6P43J3Net0ot"
      },
      "source": [
        ""
      ],
      "execution_count": null,
      "outputs": []
    }
  ]
}