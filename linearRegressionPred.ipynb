{
  "nbformat": 4,
  "nbformat_minor": 0,
  "metadata": {
    "colab": {
      "name": "LinearRegression_pred(simple).ipynb",
      "provenance": [],
      "authorship_tag": "ABX9TyOkFsQh7T8+UdevDl62qRBQ",
      "include_colab_link": true
    },
    "kernelspec": {
      "name": "python3",
      "display_name": "Python 3"
    },
    "language_info": {
      "name": "python"
    }
  },
  "cells": [
    {
      "cell_type": "markdown",
      "metadata": {
        "id": "view-in-github",
        "colab_type": "text"
      },
      "source": [
        "<a href=\"https://colab.research.google.com/github/dikshap07/ML-Algorithms/blob/master/LinearRegression_pred(simple).ipynb\" target=\"_parent\"><img src=\"https://colab.research.google.com/assets/colab-badge.svg\" alt=\"Open In Colab\"/></a>"
      ]
    },
    {
      "cell_type": "code",
      "execution_count": 5,
      "metadata": {
        "colab": {
          "base_uri": "https://localhost:8080/"
        },
        "id": "IhWE9YoyIe1q",
        "outputId": "584d752d-0916-455f-bc5b-f1b6eabd5641"
      },
      "outputs": [
        {
          "output_type": "stream",
          "name": "stdout",
          "text": [
            "15.458\n"
          ]
        }
      ],
      "source": [
        "# Enter your code here. Read input from STDIN. Print output to STDOUT\n",
        "P = '15  12  8   8   7   7   7   6   5   3'\n",
        "H = '10  25  17  11  13  17  20  13  9   15'\n",
        "\n",
        "phy = P.split('  ')\n",
        "his = H.split('  ')\n",
        "\n",
        "phy = list(map(lambda x : int(x),phy))\n",
        "his = list(map(lambda x : int(x),his))\n",
        "\n",
        "def model(x,y,x_):\n",
        "    \n",
        "    x_mean = sum(x)/len(x)\n",
        "    y_mean = sum(y)/len(y)\n",
        "    \n",
        "    slope_num = sum((x[i] - x_mean)*(y[i] - y_mean) for i in range(len(x)))\n",
        "    \n",
        "    slope_dem = sum((x[i] - x_mean)**2 for i in range(len(x)))\n",
        "    \n",
        "    slope = slope_num/slope_dem\n",
        "    \n",
        "    b = y_mean - slope*(x_mean)\n",
        "    \n",
        "    y_pred = slope*(x_) + b\n",
        "    \n",
        "    return round(y_pred,3)\n",
        "\n",
        "print(model(phy,his,10))"
      ]
    },
    {
      "cell_type": "code",
      "source": [
        ""
      ],
      "metadata": {
        "id": "voBWOufEIfmA"
      },
      "execution_count": null,
      "outputs": []
    }
  ]
}