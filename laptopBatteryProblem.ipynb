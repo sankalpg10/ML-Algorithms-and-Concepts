{
  "cells": [
    {
      "cell_type": "markdown",
      "metadata": {
        "colab_type": "text",
        "id": "view-in-github"
      },
      "source": [
        "<a href=\"https://colab.research.google.com/github/dikshap07/ML-Algorithms/blob/master/LaptopBatteryProblem.ipynb\" target=\"_parent\"><img src=\"https://colab.research.google.com/assets/colab-badge.svg\" alt=\"Open In Colab\"/></a>"
      ]
    },
    {
      "cell_type": "code",
      "execution_count": 1,
      "metadata": {
        "colab": {
          "base_uri": "https://localhost:8080/"
        },
        "id": "4JPw5fCKJpgT",
        "outputId": "16d6580b-a82f-4a43-a642-c9adc7f6ab75"
      },
      "outputs": [
        {
          "name": "stdout",
          "output_type": "stream",
          "text": [
            "Mounted at /content/gdrive\n"
          ]
        }
      ],
      "source": [
        "from google.colab import drive\n",
        "drive.mount(\"/content/gdrive\")"
      ]
    },
    {
      "cell_type": "code",
      "execution_count": 4,
      "metadata": {
        "id": "S1lgMw9rMUsx"
      },
      "outputs": [],
      "source": [
        "data_path = \"/content/gdrive/MyDrive/laptopdata.txt\"\n",
        "\n",
        "\n",
        "data = open(data_path,'r')"
      ]
    },
    {
      "cell_type": "code",
      "execution_count": 89,
      "metadata": {
        "id": "Bv9djdHsTaUH"
      },
      "outputs": [],
      "source": [
        "import pandas as pd\n",
        "import numpy as np"
      ]
    },
    {
      "cell_type": "code",
      "execution_count": 31,
      "metadata": {
        "id": "KS_KZ8ScNPzD"
      },
      "outputs": [],
      "source": [
        "\n",
        "time_laptop_charged = []\n",
        "time_battery_lasted = []\n",
        "\n",
        "with open(data_path) as data:\n",
        "\n",
        "  lines = data.read()\n",
        "\n"
      ]
    },
    {
      "cell_type": "code",
      "execution_count": 32,
      "metadata": {
        "colab": {
          "base_uri": "https://localhost:8080/"
        },
        "id": "07a7zqHORHKv",
        "outputId": "f2a92d21-3ad7-4196-9e5d-47d98681b79f"
      },
      "outputs": [
        {
          "data": {
            "text/plain": [
              "str"
            ]
          },
          "execution_count": 32,
          "metadata": {},
          "output_type": "execute_result"
        }
      ],
      "source": [
        "type(lines)"
      ]
    },
    {
      "cell_type": "code",
      "execution_count": 33,
      "metadata": {
        "colab": {
          "base_uri": "https://localhost:8080/",
          "height": 174
        },
        "id": "q-Bj-yOZOYeT",
        "outputId": "6fa01520-54d5-4503-9dfa-864bf25ec821"
      },
      "outputs": [
        {
          "data": {
            "application/vnd.google.colaboratory.intrinsic+json": {
              "type": "string"
            },
            "text/plain": [
              "'2.81,5.62\\n7.14,8.00\\n2.72,5.44\\n3.87,7.74\\n1.90,3.80\\n7.82,8.00\\n7.02,8.00\\n5.50,8.00\\n9.15,8.00\\n4.87,8.00\\n8.08,8.00\\n5.58,8.00\\n9.13,8.00\\n0.14,0.28\\n2.00,4.00\\n5.47,8.00\\n0.80,1.60\\n4.37,8.00\\n5.31,8.00\\n0.00,0.00\\n1.78,3.56\\n3.45,6.90\\n6.13,8.00\\n3.53,7.06\\n4.61,8.00\\n1.76,3.52\\n6.39,8.00\\n0.02,0.04\\n9.69,8.00\\n5.33,8.00\\n6.37,8.00\\n5.55,8.00\\n7.80,8.00\\n2.06,4.12\\n7.79,8.00\\n2.24,4.48\\n9.71,8.00\\n1.11,2.22\\n8.38,8.00\\n2.33,4.66\\n1.83,3.66\\n5.94,8.00\\n9.20,8.00\\n1.14,2.28\\n4.15,8.00\\n8.43,8.00\\n5.68,8.00\\n8.21,8.00\\n1.75,3.50\\n2.16,4.32\\n4.93,8.00\\n5.75,8.00\\n1.26,2.52\\n3.97,7.94\\n4.39,8.00\\n7.53,8.00\\n1.98,3.96\\n1.66,3.32\\n2.04,4.08\\n11.72,8.00\\n4.64,8.00\\n4.71,8.00\\n3.77,7.54\\n9.33,8.00\\n1.83,3.66\\n2.15,4.30\\n1.58,3.16\\n9.29,8.00\\n1.27,2.54\\n8.49,8.00\\n5.39,8.00\\n3.47,6.94\\n6.48,8.00\\n4.11,8.00\\n1.85,3.70\\n8.79,8.00\\n0.13,0.26\\n1.44,2.88\\n5.96,8.00\\n3.42,6.84\\n1.89,3.78\\n1.98,3.96\\n5.26,8.00\\n0.39,0.78\\n6.05,8.00\\n1.99,3.98\\n1.58,3.16\\n3.99,7.98\\n4.35,8.00\\n6.71,8.00\\n2.58,5.16\\n7.37,8.00\\n5.77,8.00\\n3.97,7.94\\n3.65,7.30\\n4.38,8.00\\n8.06,8.00\\n8.05,8.00\\n1.10,2.20\\n6.65,8.00\\n\\n\\n'"
            ]
          },
          "execution_count": 33,
          "metadata": {},
          "output_type": "execute_result"
        }
      ],
      "source": [
        "lines"
      ]
    },
    {
      "cell_type": "code",
      "execution_count": 61,
      "metadata": {
        "id": "9ORwCc2fOZRE"
      },
      "outputs": [],
      "source": [
        "data = lines.split('\\n')\n",
        "\n",
        "\n",
        "data = [data[i].split(',') for i in range(len(data))]"
      ]
    },
    {
      "cell_type": "code",
      "execution_count": 62,
      "metadata": {
        "colab": {
          "base_uri": "https://localhost:8080/"
        },
        "id": "t7pxeuqWSMp3",
        "outputId": "abfc9ad5-305f-4846-aeb6-7f844eb47543"
      },
      "outputs": [
        {
          "data": {
            "text/plain": [
              "100"
            ]
          },
          "execution_count": 62,
          "metadata": {},
          "output_type": "execute_result"
        }
      ],
      "source": [
        "data = data[:100]\n",
        "len(data)"
      ]
    },
    {
      "cell_type": "code",
      "execution_count": 63,
      "metadata": {
        "id": "oFogBWxnRDGd"
      },
      "outputs": [],
      "source": [
        "data_col1 = [data[i][0] for i in range(len(data))] #time laptop charged. #x\n",
        "data_col2 = [data[i][1] for i in range(len(data))] #time battery lasted. #y"
      ]
    },
    {
      "cell_type": "code",
      "execution_count": 90,
      "metadata": {
        "id": "xBvIkFjBRk2I"
      },
      "outputs": [],
      "source": [
        "data_col1 = np.array(list(map(lambda x: float(x),data_col1)))\n",
        "\n",
        "data_col2 = np.array(list(map(lambda x: float(x),data_col2)))"
      ]
    },
    {
      "cell_type": "code",
      "execution_count": 75,
      "metadata": {
        "id": "1qMLbfIzUSt1"
      },
      "outputs": [],
      "source": [
        "data_ = {'Time Laptop Charged': data_col1,'Time Battery Lasted':data_col2}"
      ]
    },
    {
      "cell_type": "code",
      "execution_count": 76,
      "metadata": {
        "id": "4HdHHtImTCvI"
      },
      "outputs": [],
      "source": [
        "data_laptop = pd.DataFrame(data_)"
      ]
    },
    {
      "cell_type": "code",
      "execution_count": 77,
      "metadata": {
        "colab": {
          "base_uri": "https://localhost:8080/",
          "height": 424
        },
        "id": "4vdxeMG5ToF-",
        "outputId": "2ec02d69-f217-48aa-e719-3fd3fa5ded81"
      },
      "outputs": [
        {
          "data": {
            "text/html": [
              "\n",
              "  <div id=\"df-0240ad42-2437-4fe9-9f1e-4aaea063a3f2\">\n",
              "    <div class=\"colab-df-container\">\n",
              "      <div>\n",
              "<style scoped>\n",
              "    .dataframe tbody tr th:only-of-type {\n",
              "        vertical-align: middle;\n",
              "    }\n",
              "\n",
              "    .dataframe tbody tr th {\n",
              "        vertical-align: top;\n",
              "    }\n",
              "\n",
              "    .dataframe thead th {\n",
              "        text-align: right;\n",
              "    }\n",
              "</style>\n",
              "<table border=\"1\" class=\"dataframe\">\n",
              "  <thead>\n",
              "    <tr style=\"text-align: right;\">\n",
              "      <th></th>\n",
              "      <th>Time Laptop Charged</th>\n",
              "      <th>Time Battery Lasted</th>\n",
              "    </tr>\n",
              "  </thead>\n",
              "  <tbody>\n",
              "    <tr>\n",
              "      <th>0</th>\n",
              "      <td>2.81</td>\n",
              "      <td>5.62</td>\n",
              "    </tr>\n",
              "    <tr>\n",
              "      <th>1</th>\n",
              "      <td>7.14</td>\n",
              "      <td>8.00</td>\n",
              "    </tr>\n",
              "    <tr>\n",
              "      <th>2</th>\n",
              "      <td>2.72</td>\n",
              "      <td>5.44</td>\n",
              "    </tr>\n",
              "    <tr>\n",
              "      <th>3</th>\n",
              "      <td>3.87</td>\n",
              "      <td>7.74</td>\n",
              "    </tr>\n",
              "    <tr>\n",
              "      <th>4</th>\n",
              "      <td>1.90</td>\n",
              "      <td>3.80</td>\n",
              "    </tr>\n",
              "    <tr>\n",
              "      <th>...</th>\n",
              "      <td>...</td>\n",
              "      <td>...</td>\n",
              "    </tr>\n",
              "    <tr>\n",
              "      <th>95</th>\n",
              "      <td>4.38</td>\n",
              "      <td>8.00</td>\n",
              "    </tr>\n",
              "    <tr>\n",
              "      <th>96</th>\n",
              "      <td>8.06</td>\n",
              "      <td>8.00</td>\n",
              "    </tr>\n",
              "    <tr>\n",
              "      <th>97</th>\n",
              "      <td>8.05</td>\n",
              "      <td>8.00</td>\n",
              "    </tr>\n",
              "    <tr>\n",
              "      <th>98</th>\n",
              "      <td>1.10</td>\n",
              "      <td>2.20</td>\n",
              "    </tr>\n",
              "    <tr>\n",
              "      <th>99</th>\n",
              "      <td>6.65</td>\n",
              "      <td>8.00</td>\n",
              "    </tr>\n",
              "  </tbody>\n",
              "</table>\n",
              "<p>100 rows × 2 columns</p>\n",
              "</div>\n",
              "      <button class=\"colab-df-convert\" onclick=\"convertToInteractive('df-0240ad42-2437-4fe9-9f1e-4aaea063a3f2')\"\n",
              "              title=\"Convert this dataframe to an interactive table.\"\n",
              "              style=\"display:none;\">\n",
              "        \n",
              "  <svg xmlns=\"http://www.w3.org/2000/svg\" height=\"24px\"viewBox=\"0 0 24 24\"\n",
              "       width=\"24px\">\n",
              "    <path d=\"M0 0h24v24H0V0z\" fill=\"none\"/>\n",
              "    <path d=\"M18.56 5.44l.94 2.06.94-2.06 2.06-.94-2.06-.94-.94-2.06-.94 2.06-2.06.94zm-11 1L8.5 8.5l.94-2.06 2.06-.94-2.06-.94L8.5 2.5l-.94 2.06-2.06.94zm10 10l.94 2.06.94-2.06 2.06-.94-2.06-.94-.94-2.06-.94 2.06-2.06.94z\"/><path d=\"M17.41 7.96l-1.37-1.37c-.4-.4-.92-.59-1.43-.59-.52 0-1.04.2-1.43.59L10.3 9.45l-7.72 7.72c-.78.78-.78 2.05 0 2.83L4 21.41c.39.39.9.59 1.41.59.51 0 1.02-.2 1.41-.59l7.78-7.78 2.81-2.81c.8-.78.8-2.07 0-2.86zM5.41 20L4 18.59l7.72-7.72 1.47 1.35L5.41 20z\"/>\n",
              "  </svg>\n",
              "      </button>\n",
              "      \n",
              "  <style>\n",
              "    .colab-df-container {\n",
              "      display:flex;\n",
              "      flex-wrap:wrap;\n",
              "      gap: 12px;\n",
              "    }\n",
              "\n",
              "    .colab-df-convert {\n",
              "      background-color: #E8F0FE;\n",
              "      border: none;\n",
              "      border-radius: 50%;\n",
              "      cursor: pointer;\n",
              "      display: none;\n",
              "      fill: #1967D2;\n",
              "      height: 32px;\n",
              "      padding: 0 0 0 0;\n",
              "      width: 32px;\n",
              "    }\n",
              "\n",
              "    .colab-df-convert:hover {\n",
              "      background-color: #E2EBFA;\n",
              "      box-shadow: 0px 1px 2px rgba(60, 64, 67, 0.3), 0px 1px 3px 1px rgba(60, 64, 67, 0.15);\n",
              "      fill: #174EA6;\n",
              "    }\n",
              "\n",
              "    [theme=dark] .colab-df-convert {\n",
              "      background-color: #3B4455;\n",
              "      fill: #D2E3FC;\n",
              "    }\n",
              "\n",
              "    [theme=dark] .colab-df-convert:hover {\n",
              "      background-color: #434B5C;\n",
              "      box-shadow: 0px 1px 3px 1px rgba(0, 0, 0, 0.15);\n",
              "      filter: drop-shadow(0px 1px 2px rgba(0, 0, 0, 0.3));\n",
              "      fill: #FFFFFF;\n",
              "    }\n",
              "  </style>\n",
              "\n",
              "      <script>\n",
              "        const buttonEl =\n",
              "          document.querySelector('#df-0240ad42-2437-4fe9-9f1e-4aaea063a3f2 button.colab-df-convert');\n",
              "        buttonEl.style.display =\n",
              "          google.colab.kernel.accessAllowed ? 'block' : 'none';\n",
              "\n",
              "        async function convertToInteractive(key) {\n",
              "          const element = document.querySelector('#df-0240ad42-2437-4fe9-9f1e-4aaea063a3f2');\n",
              "          const dataTable =\n",
              "            await google.colab.kernel.invokeFunction('convertToInteractive',\n",
              "                                                     [key], {});\n",
              "          if (!dataTable) return;\n",
              "\n",
              "          const docLinkHtml = 'Like what you see? Visit the ' +\n",
              "            '<a target=\"_blank\" href=https://colab.research.google.com/notebooks/data_table.ipynb>data table notebook</a>'\n",
              "            + ' to learn more about interactive tables.';\n",
              "          element.innerHTML = '';\n",
              "          dataTable['output_type'] = 'display_data';\n",
              "          await google.colab.output.renderOutput(dataTable, element);\n",
              "          const docLink = document.createElement('div');\n",
              "          docLink.innerHTML = docLinkHtml;\n",
              "          element.appendChild(docLink);\n",
              "        }\n",
              "      </script>\n",
              "    </div>\n",
              "  </div>\n",
              "  "
            ],
            "text/plain": [
              "    Time Laptop Charged  Time Battery Lasted\n",
              "0                  2.81                 5.62\n",
              "1                  7.14                 8.00\n",
              "2                  2.72                 5.44\n",
              "3                  3.87                 7.74\n",
              "4                  1.90                 3.80\n",
              "..                  ...                  ...\n",
              "95                 4.38                 8.00\n",
              "96                 8.06                 8.00\n",
              "97                 8.05                 8.00\n",
              "98                 1.10                 2.20\n",
              "99                 6.65                 8.00\n",
              "\n",
              "[100 rows x 2 columns]"
            ]
          },
          "execution_count": 77,
          "metadata": {},
          "output_type": "execute_result"
        }
      ],
      "source": [
        "data_laptop"
      ]
    },
    {
      "cell_type": "code",
      "execution_count": 105,
      "metadata": {
        "id": "2X-8LdX7ltz5"
      },
      "outputs": [],
      "source": [
        "class LR_Model:\n",
        "\n",
        "  def __init__(self,lr, iterations):\n",
        "\n",
        "    self.lr = lr\n",
        "    self.iterations = iterations\n",
        "\n",
        "  def fit(self,x,y):\n",
        "    \n",
        "    b = 0\n",
        "    m = 5\n",
        "    n = len(x)\n",
        "\n",
        "    for i in range(self.iterations):\n",
        "      \n",
        "      der_b = sum((y[i] - m*x[i] - b) for i in range(len(x)))\n",
        "      #print('der_b',der_b)\n",
        "\n",
        "      der_m = sum((y[i] - m*x[i] - b)*x[i] for i in range(len(x)) )\n",
        "      #print('der_b',der_b)\n",
        "    \n",
        "      b = b + (self.lr)*(der_b)\n",
        "\n",
        "      m = m - (self.lr)*(der_m)\n",
        "\n",
        "    # print(\"m\",m)\n",
        "    # print(\"b\",b)\n",
        "\n",
        "    self.m,self.b = m,b\n",
        "\n",
        "\n",
        "    return m, b\n",
        "\n",
        "\n",
        "  def predict(self,X):\n",
        "\n",
        "    return self.m*X + self.b"
      ]
    },
    {
      "cell_type": "code",
      "execution_count": 109,
      "metadata": {
        "colab": {
          "base_uri": "https://localhost:8080/"
        },
        "id": "eSJREDAen073",
        "outputId": "0b482325-eded-4f70-dd46-0cafd4abf70d"
      },
      "outputs": [
        {
          "name": "stdout",
          "output_type": "stream",
          "text": [
            "2.0621621728084364e+300\n"
          ]
        }
      ],
      "source": [
        "model = LR_Model(0.01,100)\n",
        "\n",
        "model.fit(data_col1,data_col2)\n",
        "\n",
        "y_pred = model.predict(data_col1)\n",
        "#print(y_pred)\n",
        "\n",
        "error = ((sum((y_pred[i] - data_col2[i]) for i in range(len(y_pred))))**2)/2*(len(y_pred))\n",
        "print(error)"
      ]
    },
    {
      "cell_type": "code",
      "execution_count": 111,
      "metadata": {
        "colab": {
          "base_uri": "https://localhost:8080/"
        },
        "id": "NaOp3D7j5fEy",
        "outputId": "c3ac8fad-183e-48c8-d785-d538fbcda397"
      },
      "outputs": [
        {
          "name": "stdout",
          "output_type": "stream",
          "text": [
            "[5.62 8.   5.44 7.74 3.8  8.   8.   8.   8.   8.   8.   8.   8.   0.28\n",
            " 4.   8.   1.6  8.   8.   0.   3.56 6.9  8.   7.06 8.   3.52 8.   0.04\n",
            " 8.   8.   8.   8.   8.   4.12 8.   4.48 8.   2.22 8.   4.66 3.66 8.\n",
            " 8.   2.28 8.   8.   8.   8.   3.5  4.32 8.   8.   2.52 7.94 8.   8.\n",
            " 3.96 3.32 4.08 8.   8.   8.   7.54 8.   3.66 4.3  3.16 8.   2.54 8.\n",
            " 8.   6.94 8.   8.   3.7  8.   0.26 2.88 8.   6.84 3.78 3.96 8.   0.78\n",
            " 8.   3.98 3.16 7.98 8.   8.   5.16 8.   8.   7.94 7.3  8.   8.   8.\n",
            " 2.2  8.  ]\n"
          ]
        }
      ],
      "source": [
        "print(data_col2)"
      ]
    },
    {
      "cell_type": "code",
      "execution_count": 110,
      "metadata": {
        "colab": {
          "base_uri": "https://localhost:8080/"
        },
        "id": "lHX5i4JYkfGh",
        "outputId": "002ec866-8577-4bd8-806f-c77c9c3faa82"
      },
      "outputs": [
        {
          "name": "stdout",
          "output_type": "stream",
          "text": [
            "[ 1.21982955e+147  3.21171235e+147  1.17842783e+147  1.70744982e+147\n",
            "  8.01212144e+146  3.52452535e+147  3.15651005e+147  2.45728099e+147\n",
            "  4.13635079e+147  2.16746894e+147  3.64413032e+147  2.49408252e+147\n",
            "  4.12715040e+147 -8.42151196e+144  8.47214057e+146  2.44348041e+147\n",
            "  2.95191109e+146  1.93745938e+147  2.36987735e+147 -7.28241892e+145\n",
            "  7.46009850e+146  1.51424178e+147  2.74709303e+147  1.55104331e+147\n",
            "  2.04786397e+147  7.36809467e+146  2.86669801e+147 -6.36238067e+145\n",
            "  4.38476111e+147  2.37907774e+147  2.85749762e+147  2.48028194e+147\n",
            "  3.51532497e+147  8.74815204e+146  3.51072478e+147  9.57618646e+146\n",
            "  4.39396149e+147  4.37797037e+146  3.78213606e+147  9.99020367e+146\n",
            "  7.69010806e+146  2.65968940e+147  4.15935174e+147  4.51597611e+146\n",
            "  1.83625517e+147  3.80513702e+147  2.54008443e+147  3.70393281e+147\n",
            "  7.32209276e+146  9.20817116e+146  2.19507009e+147  2.57228577e+147\n",
            "  5.06799906e+146  1.75345173e+147  1.94665976e+147  3.39111981e+147\n",
            "  8.38013674e+146  6.90807555e+146  8.65614821e+146  5.31859993e+147\n",
            "  2.06166454e+147  2.09386588e+147  1.66144790e+147  4.21915423e+147\n",
            "  7.69010806e+146  9.16216925e+146  6.54006025e+146  4.20075346e+147\n",
            "  5.11400097e+146  3.83273816e+147  2.40667888e+147  1.52344217e+147\n",
            "  2.90809973e+147  1.81785441e+147  7.78211188e+146  3.97074390e+147\n",
            " -1.30217032e+145  5.89603348e+146  2.66888978e+147  1.50044121e+147\n",
            "  7.96611953e+146  8.38013674e+146  2.34687640e+147  1.06583269e+146\n",
            "  2.71029150e+147  8.42613865e+146  6.54006025e+146  1.76265211e+147\n",
            "  1.92825900e+147  3.01390413e+147  1.11402515e+147  3.31751675e+147\n",
            "  2.58148615e+147  1.75345173e+147  1.60624561e+147  1.94205957e+147\n",
            "  3.63492994e+147  3.63032975e+147  4.33196846e+146  2.98630298e+147]\n"
          ]
        }
      ],
      "source": [
        "print(y_pred)"
      ]
    },
    {
      "cell_type": "code",
      "execution_count": null,
      "metadata": {
        "id": "LDBZrK345eYM"
      },
      "outputs": [],
      "source": []
    }
  ],
  "metadata": {
    "colab": {
      "authorship_tag": "ABX9TyPNCQBLwLdWN7thAaWo4sqR",
      "include_colab_link": true,
      "name": "LaptopBatteryProblem.ipynb",
      "provenance": []
    },
    "kernelspec": {
      "display_name": "Python 3.9.16 64-bit ('3.9.16')",
      "language": "python",
      "name": "python3"
    },
    "language_info": {
      "name": "python",
      "version": "3.9.16"
    },
    "vscode": {
      "interpreter": {
        "hash": "0d35329f6e98e119846456e2969d7008269f3ad44853946873608db35a211fa1"
      }
    }
  },
  "nbformat": 4,
  "nbformat_minor": 0
}
