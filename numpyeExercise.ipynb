{
  "nbformat": 4,
  "nbformat_minor": 0,
  "metadata": {
    "colab": {
      "name": "Numpy.ipynb",
      "provenance": [],
      "authorship_tag": "ABX9TyPi2auu4TnOaW0XvtyHmQcE",
      "include_colab_link": true
    },
    "kernelspec": {
      "name": "python3",
      "display_name": "Python 3"
    }
  },
  "cells": [
    {
      "cell_type": "markdown",
      "metadata": {
        "id": "view-in-github",
        "colab_type": "text"
      },
      "source": [
        "<a href=\"https://colab.research.google.com/github/dikshap07/ML-Algorithms/blob/master/Numpy.ipynb\" target=\"_parent\"><img src=\"https://colab.research.google.com/assets/colab-badge.svg\" alt=\"Open In Colab\"/></a>"
      ]
    },
    {
      "cell_type": "code",
      "metadata": {
        "id": "to83vongN0rn"
      },
      "source": [
        "import numpy as np\n"
      ],
      "execution_count": null,
      "outputs": []
    },
    {
      "cell_type": "code",
      "metadata": {
        "id": "0WWAs1uFQBKS",
        "colab": {
          "base_uri": "https://localhost:8080/",
          "height": 51
        },
        "outputId": "7e777fdd-8570-4355-c870-944540e28d79"
      },
      "source": [
        "#print zeros two rows 3 columns:\n",
        "\n",
        "zero_array = np.zeros((2,3))\n",
        "print(zero_array)"
      ],
      "execution_count": null,
      "outputs": [
        {
          "output_type": "stream",
          "text": [
            "[[0. 0. 0.]\n",
            " [0. 0. 0.]]\n"
          ],
          "name": "stdout"
        }
      ]
    },
    {
      "cell_type": "code",
      "metadata": {
        "id": "qcM1NPLMQMB2",
        "colab": {
          "base_uri": "https://localhost:8080/",
          "height": 85
        },
        "outputId": "d630dccb-d405-4561-c386-cfe9bca96158"
      },
      "source": [
        "#eye()\n",
        "\n",
        "arr = np.eye(4)\n",
        "print(arr)"
      ],
      "execution_count": null,
      "outputs": [
        {
          "output_type": "stream",
          "text": [
            "[[1. 0. 0. 0.]\n",
            " [0. 1. 0. 0.]\n",
            " [0. 0. 1. 0.]\n",
            " [0. 0. 0. 1.]]\n"
          ],
          "name": "stdout"
        }
      ]
    },
    {
      "cell_type": "code",
      "metadata": {
        "id": "qxS6m36qQgpS",
        "colab": {
          "base_uri": "https://localhost:8080/",
          "height": 85
        },
        "outputId": "bba79ba1-b41c-4035-81fa-74e00d88e3c1"
      },
      "source": [
        "a = np.eye(4,5)\n",
        "print(a)"
      ],
      "execution_count": null,
      "outputs": [
        {
          "output_type": "stream",
          "text": [
            "[[1. 0. 0. 0. 0.]\n",
            " [0. 1. 0. 0. 0.]\n",
            " [0. 0. 1. 0. 0.]\n",
            " [0. 0. 0. 1. 0.]]\n"
          ],
          "name": "stdout"
        }
      ]
    },
    {
      "cell_type": "code",
      "metadata": {
        "id": "T5vKoesKRJxF",
        "colab": {
          "base_uri": "https://localhost:8080/",
          "height": 68
        },
        "outputId": "2ceb1801-2b25-48bd-c3fe-32ba126f1403"
      },
      "source": [
        "#diag() -> creates a diagonal square matrix \n",
        "b = np.diag([1,2,5])\n",
        "print(b)"
      ],
      "execution_count": null,
      "outputs": [
        {
          "output_type": "stream",
          "text": [
            "[[1 0 0]\n",
            " [0 2 0]\n",
            " [0 0 5]]\n"
          ],
          "name": "stdout"
        }
      ]
    },
    {
      "cell_type": "code",
      "metadata": {
        "id": "daKdG5K0RobG",
        "colab": {
          "base_uri": "https://localhost:8080/",
          "height": 34
        },
        "outputId": "62ee9568-f01a-4f3b-d827-6bc8e71f1f55"
      },
      "source": [
        "#Print Range Between 1 To 15 and show 4 integers random numbers\n",
        "\n",
        "new = np.random.randint(1,15,4)\n",
        "print(new)"
      ],
      "execution_count": null,
      "outputs": [
        {
          "output_type": "stream",
          "text": [
            "[ 1  6 12  8  5]\n"
          ],
          "name": "stdout"
        }
      ]
    },
    {
      "cell_type": "code",
      "metadata": {
        "id": "k6yV6GSVSaAP",
        "colab": {
          "base_uri": "https://localhost:8080/",
          "height": 68
        },
        "outputId": "7a2f5638-db4b-4867-d15b-55cee3701bae"
      },
      "source": [
        "#Print Range Between 1 To 100 and show 4 integers random numbers\n",
        "new_ = np.random.randint(1,100,4)\n",
        "print(new_)\n",
        "rand_arr3 = np.random.randint(1,100,4)\n",
        "print('\\n random number from 1 to 100' ,rand_arr3)"
      ],
      "execution_count": null,
      "outputs": [
        {
          "output_type": "stream",
          "text": [
            "[57 68 56 64]\n",
            "\n",
            " random number from 1 to 100 [64 13 37 35]\n"
          ],
          "name": "stdout"
        }
      ]
    },
    {
      "cell_type": "code",
      "metadata": {
        "id": "g3rtAX69Sj3s",
        "colab": {
          "base_uri": "https://localhost:8080/",
          "height": 34
        },
        "outputId": "8e530239-957d-40e0-f9e5-b5f6eae1c3b9"
      },
      "source": [
        "#Print Range Between random number 2 row and 3 cols integers random numbers\n",
        "\n",
        "new = np.random.randint([2,3])\n",
        "print(new)"
      ],
      "execution_count": null,
      "outputs": [
        {
          "output_type": "stream",
          "text": [
            "[1 1]\n"
          ],
          "name": "stdout"
        }
      ]
    },
    {
      "cell_type": "code",
      "metadata": {
        "id": "v4WrAjM7TEuN",
        "colab": {
          "base_uri": "https://localhost:8080/",
          "height": 51
        },
        "outputId": "75774942-8be6-4e6e-fdfe-03dd98939ad9"
      },
      "source": [
        "rand_arr2 = np.random.randint([2,3])\n",
        "print('\\n random number 2 row and 3 cols ',rand_arr2)"
      ],
      "execution_count": null,
      "outputs": [
        {
          "output_type": "stream",
          "text": [
            "\n",
            " random number 2 row and 3 cols  [1 2]\n"
          ],
          "name": "stdout"
        }
      ]
    },
    {
      "cell_type": "code",
      "metadata": {
        "id": "Pm07gTQ2TQhy",
        "colab": {
          "base_uri": "https://localhost:8080/",
          "height": 51
        },
        "outputId": "b07c7289-2740-4d64-cc5e-d5ecf64008ee"
      },
      "source": [
        "#describe the example of seed() function? and how to use it ? why seed()?\n",
        "\n",
        "np.random.seed(12)\n",
        "rand_arr4 = np.random.randint(1,100,20)\n",
        "print('\\nseed() showing same number only : ',rand_arr4)\n",
        "\n"
      ],
      "execution_count": null,
      "outputs": [
        {
          "output_type": "stream",
          "text": [
            "\n",
            "seed() showing same number only :  [76 28  7  3  4 68 77 49 23 50 53  6 14 90 35 76 75  1 77 14]\n"
          ],
          "name": "stdout"
        }
      ]
    },
    {
      "cell_type": "code",
      "metadata": {
        "id": "OUULm1XVX8am",
        "colab": {
          "base_uri": "https://localhost:8080/",
          "height": 34
        },
        "outputId": "b15df537-0a32-45a0-a530-734487d0e8e5"
      },
      "source": [
        "rand_arr4[-1]"
      ],
      "execution_count": null,
      "outputs": [
        {
          "output_type": "execute_result",
          "data": {
            "text/plain": [
              "14"
            ]
          },
          "metadata": {
            "tags": []
          },
          "execution_count": 34
        }
      ]
    },
    {
      "cell_type": "code",
      "metadata": {
        "id": "wj-DPAoCYew6",
        "colab": {
          "base_uri": "https://localhost:8080/",
          "height": 34
        },
        "outputId": "1b2b007c-054b-4c59-cdee-c45328c8b74f"
      },
      "source": [
        "a[0][0]"
      ],
      "execution_count": null,
      "outputs": [
        {
          "output_type": "execute_result",
          "data": {
            "text/plain": [
              "1.0"
            ]
          },
          "metadata": {
            "tags": []
          },
          "execution_count": 36
        }
      ]
    },
    {
      "cell_type": "code",
      "metadata": {
        "id": "uEbntJpYYvix",
        "colab": {
          "base_uri": "https://localhost:8080/",
          "height": 34
        },
        "outputId": "544b4507-e8b8-4945-bd34-0f912775bef9"
      },
      "source": [
        "b[1][1]"
      ],
      "execution_count": null,
      "outputs": [
        {
          "output_type": "execute_result",
          "data": {
            "text/plain": [
              "2"
            ]
          },
          "metadata": {
            "tags": []
          },
          "execution_count": 38
        }
      ]
    },
    {
      "cell_type": "code",
      "metadata": {
        "id": "SwVdczZ0Y12y",
        "colab": {
          "base_uri": "https://localhost:8080/",
          "height": 68
        },
        "outputId": "7d7f0bcf-e11b-48eb-fe50-6e036eaec8f6"
      },
      "source": [
        "np.arange(0,9).reshape(3,3)"
      ],
      "execution_count": null,
      "outputs": [
        {
          "output_type": "execute_result",
          "data": {
            "text/plain": [
              "array([[0, 1, 2],\n",
              "       [3, 4, 5],\n",
              "       [6, 7, 8]])"
            ]
          },
          "metadata": {
            "tags": []
          },
          "execution_count": 41
        }
      ]
    },
    {
      "cell_type": "code",
      "metadata": {
        "id": "w2RvgsyAZAu-",
        "colab": {
          "base_uri": "https://localhost:8080/",
          "height": 187
        },
        "outputId": "d4a4232a-a442-4e1b-c5a1-f2875c761978"
      },
      "source": [
        "boo = np.arange(0,100).reshape(10,10)\n",
        "print(boo)"
      ],
      "execution_count": null,
      "outputs": [
        {
          "output_type": "stream",
          "text": [
            "[[ 0  1  2  3  4  5  6  7  8  9]\n",
            " [10 11 12 13 14 15 16 17 18 19]\n",
            " [20 21 22 23 24 25 26 27 28 29]\n",
            " [30 31 32 33 34 35 36 37 38 39]\n",
            " [40 41 42 43 44 45 46 47 48 49]\n",
            " [50 51 52 53 54 55 56 57 58 59]\n",
            " [60 61 62 63 64 65 66 67 68 69]\n",
            " [70 71 72 73 74 75 76 77 78 79]\n",
            " [80 81 82 83 84 85 86 87 88 89]\n",
            " [90 91 92 93 94 95 96 97 98 99]]\n"
          ],
          "name": "stdout"
        }
      ]
    },
    {
      "cell_type": "code",
      "metadata": {
        "id": "PndO5dLNZkB7",
        "colab": {
          "base_uri": "https://localhost:8080/",
          "height": 34
        },
        "outputId": "2b9efc48-384b-4ce8-e7a6-a49210d3b6e7"
      },
      "source": [
        "#size of array\n",
        "\n",
        "boo.size"
      ],
      "execution_count": null,
      "outputs": [
        {
          "output_type": "execute_result",
          "data": {
            "text/plain": [
              "100"
            ]
          },
          "metadata": {
            "tags": []
          },
          "execution_count": 45
        }
      ]
    },
    {
      "cell_type": "code",
      "metadata": {
        "id": "SY-8WM-LZwsC",
        "colab": {
          "base_uri": "https://localhost:8080/",
          "height": 34
        },
        "outputId": "5bea9f09-3155-49f2-c354-5c494eb328d0"
      },
      "source": [
        "boo.shape"
      ],
      "execution_count": null,
      "outputs": [
        {
          "output_type": "execute_result",
          "data": {
            "text/plain": [
              "(10, 10)"
            ]
          },
          "metadata": {
            "tags": []
          },
          "execution_count": 47
        }
      ]
    },
    {
      "cell_type": "code",
      "metadata": {
        "id": "gTphcJGNZ3At",
        "colab": {
          "base_uri": "https://localhost:8080/",
          "height": 85
        },
        "outputId": "fad8c1b8-fb71-49fd-c134-2fd278dda6c6"
      },
      "source": [
        "np.linspace(0,1,20)"
      ],
      "execution_count": null,
      "outputs": [
        {
          "output_type": "execute_result",
          "data": {
            "text/plain": [
              "array([0.        , 0.05263158, 0.10526316, 0.15789474, 0.21052632,\n",
              "       0.26315789, 0.31578947, 0.36842105, 0.42105263, 0.47368421,\n",
              "       0.52631579, 0.57894737, 0.63157895, 0.68421053, 0.73684211,\n",
              "       0.78947368, 0.84210526, 0.89473684, 0.94736842, 1.        ])"
            ]
          },
          "metadata": {
            "tags": []
          },
          "execution_count": 49
        }
      ]
    },
    {
      "cell_type": "code",
      "metadata": {
        "id": "Sb5R3nYPZ9sU",
        "colab": {
          "base_uri": "https://localhost:8080/",
          "height": 85
        },
        "outputId": "95236deb-5879-4758-ca9b-385f64f5914f"
      },
      "source": [
        "i = np.linspace(0,12,16).reshape(4,4)\n",
        "print(i)"
      ],
      "execution_count": null,
      "outputs": [
        {
          "output_type": "stream",
          "text": [
            "[[ 0.   0.8  1.6  2.4]\n",
            " [ 3.2  4.   4.8  5.6]\n",
            " [ 6.4  7.2  8.   8.8]\n",
            " [ 9.6 10.4 11.2 12. ]]\n"
          ],
          "name": "stdout"
        }
      ]
    },
    {
      "cell_type": "code",
      "metadata": {
        "id": "xTmQ69M7aREW",
        "colab": {
          "base_uri": "https://localhost:8080/",
          "height": 51
        },
        "outputId": "208f2ab1-868a-426b-b55e-34a6a7bd8e3e"
      },
      "source": [
        "k = np.arange(1,9).reshape(2,4)\n",
        "print(k)"
      ],
      "execution_count": null,
      "outputs": [
        {
          "output_type": "stream",
          "text": [
            "[[1 2 3 4]\n",
            " [5 6 7 8]]\n"
          ],
          "name": "stdout"
        }
      ]
    },
    {
      "cell_type": "code",
      "metadata": {
        "id": "wjvdE1haadD3",
        "colab": {
          "base_uri": "https://localhost:8080/",
          "height": 34
        },
        "outputId": "51e0dbd9-3211-460c-bc4f-02e2a37c321c"
      },
      "source": [
        "k[1,:]"
      ],
      "execution_count": null,
      "outputs": [
        {
          "output_type": "execute_result",
          "data": {
            "text/plain": [
              "array([5, 6, 7, 8])"
            ]
          },
          "metadata": {
            "tags": []
          },
          "execution_count": 60
        }
      ]
    },
    {
      "cell_type": "code",
      "metadata": {
        "id": "Fik_QpfBbB-L",
        "colab": {
          "base_uri": "https://localhost:8080/",
          "height": 51
        },
        "outputId": "6d7a8c28-3517-498a-8ea1-0c0885a9d5eb"
      },
      "source": [
        "i[1:3,:]"
      ],
      "execution_count": null,
      "outputs": [
        {
          "output_type": "execute_result",
          "data": {
            "text/plain": [
              "array([[3.2, 4. , 4.8, 5.6],\n",
              "       [6.4, 7.2, 8. , 8.8]])"
            ]
          },
          "metadata": {
            "tags": []
          },
          "execution_count": 61
        }
      ]
    },
    {
      "cell_type": "code",
      "metadata": {
        "id": "jtjvWdtobLTD",
        "colab": {
          "base_uri": "https://localhost:8080/",
          "height": 34
        },
        "outputId": "8559eb2b-2e06-4974-a676-fdff5578b1b9"
      },
      "source": [
        "i[3,:]"
      ],
      "execution_count": null,
      "outputs": [
        {
          "output_type": "execute_result",
          "data": {
            "text/plain": [
              "array([ 9.6, 10.4, 11.2, 12. ])"
            ]
          },
          "metadata": {
            "tags": []
          },
          "execution_count": 62
        }
      ]
    },
    {
      "cell_type": "code",
      "metadata": {
        "id": "RoLv_vdZbWGT",
        "colab": {
          "base_uri": "https://localhost:8080/",
          "height": 68
        },
        "outputId": "7ad8bef4-2645-4b60-c704-89ac98c6c465"
      },
      "source": [
        "i[1:]"
      ],
      "execution_count": null,
      "outputs": [
        {
          "output_type": "execute_result",
          "data": {
            "text/plain": [
              "array([[ 3.2,  4. ,  4.8,  5.6],\n",
              "       [ 6.4,  7.2,  8. ,  8.8],\n",
              "       [ 9.6, 10.4, 11.2, 12. ]])"
            ]
          },
          "metadata": {
            "tags": []
          },
          "execution_count": 63
        }
      ]
    },
    {
      "cell_type": "code",
      "metadata": {
        "id": "10JzaMkLbexU",
        "colab": {
          "base_uri": "https://localhost:8080/",
          "height": 51
        },
        "outputId": "7e517f13-a263-4ba2-bdca-86af956df038"
      },
      "source": [
        "i.ravel()"
      ],
      "execution_count": null,
      "outputs": [
        {
          "output_type": "execute_result",
          "data": {
            "text/plain": [
              "array([ 0. ,  0.8,  1.6,  2.4,  3.2,  4. ,  4.8,  5.6,  6.4,  7.2,  8. ,\n",
              "        8.8,  9.6, 10.4, 11.2, 12. ])"
            ]
          },
          "metadata": {
            "tags": []
          },
          "execution_count": 65
        }
      ]
    },
    {
      "cell_type": "code",
      "metadata": {
        "id": "cIxQ4Ue0b2_9",
        "colab": {
          "base_uri": "https://localhost:8080/",
          "height": 34
        },
        "outputId": "8f285b4d-a324-4bf2-c822-a6b36a159aec"
      },
      "source": [
        "num = np.arange(0,16).reshape(4,4)\n",
        "\n",
        "mask = num > 5\n",
        "print(num[mask])"
      ],
      "execution_count": null,
      "outputs": [
        {
          "output_type": "stream",
          "text": [
            "[ 6  7  8  9 10 11 12 13 14 15]\n"
          ],
          "name": "stdout"
        }
      ]
    },
    {
      "cell_type": "code",
      "metadata": {
        "id": "0FjbPekccO-C",
        "colab": {
          "base_uri": "https://localhost:8080/",
          "height": 34
        },
        "outputId": "7b9eab90-aa90-417d-ebc2-23323e4384aa"
      },
      "source": [
        "print(num[num%2==0])\n",
        "\n"
      ],
      "execution_count": null,
      "outputs": [
        {
          "output_type": "stream",
          "text": [
            "[ 0  2  4  6  8 10 12 14]\n"
          ],
          "name": "stdout"
        }
      ]
    },
    {
      "cell_type": "code",
      "metadata": {
        "id": "et-HqJnNdVYH",
        "colab": {
          "base_uri": "https://localhost:8080/",
          "height": 85
        },
        "outputId": "18c9c239-6005-445f-e1a6-7336babed10d"
      },
      "source": [
        "#num.reshape(4,4)\n",
        "print(num)"
      ],
      "execution_count": null,
      "outputs": [
        {
          "output_type": "stream",
          "text": [
            "[[ 0  1  2  3]\n",
            " [ 4  5  6  7]\n",
            " [ 8  9 10 11]\n",
            " [12 13 14 15]]\n"
          ],
          "name": "stdout"
        }
      ]
    },
    {
      "cell_type": "code",
      "metadata": {
        "id": "FqfGD9Sydiha"
      },
      "source": [
        "z = np.concatenate((i,num))"
      ],
      "execution_count": null,
      "outputs": []
    },
    {
      "cell_type": "code",
      "metadata": {
        "id": "V3KU7uieea-E",
        "colab": {
          "base_uri": "https://localhost:8080/",
          "height": 153
        },
        "outputId": "5bc109f6-ef3a-48c5-a88b-60897ec7e7f4"
      },
      "source": [
        "print(z)"
      ],
      "execution_count": null,
      "outputs": [
        {
          "output_type": "stream",
          "text": [
            "[[ 0.   0.8  1.6  2.4]\n",
            " [ 3.2  4.   4.8  5.6]\n",
            " [ 6.4  7.2  8.   8.8]\n",
            " [ 9.6 10.4 11.2 12. ]\n",
            " [ 0.   1.   2.   3. ]\n",
            " [ 4.   5.   6.   7. ]\n",
            " [ 8.   9.  10.  11. ]\n",
            " [12.  13.  14.  15. ]]\n"
          ],
          "name": "stdout"
        }
      ]
    },
    {
      "cell_type": "code",
      "metadata": {
        "id": "wPoJrq7BefLO",
        "colab": {
          "base_uri": "https://localhost:8080/",
          "height": 68
        },
        "outputId": "503dd634-3c75-4051-efe3-7f236fc9eaac"
      },
      "source": [
        "z = np.concatenate((i,num),axis = None)\n",
        "print(z)"
      ],
      "execution_count": null,
      "outputs": [
        {
          "output_type": "stream",
          "text": [
            "[ 0.   0.8  1.6  2.4  3.2  4.   4.8  5.6  6.4  7.2  8.   8.8  9.6 10.4\n",
            " 11.2 12.   0.   1.   2.   3.   4.   5.   6.   7.   8.   9.  10.  11.\n",
            " 12.  13.  14.  15. ]\n"
          ],
          "name": "stdout"
        }
      ]
    },
    {
      "cell_type": "code",
      "metadata": {
        "id": "AqlPJwKzgB0K",
        "colab": {
          "base_uri": "https://localhost:8080/",
          "height": 68
        },
        "outputId": "9a136ca2-29ca-4969-e03b-1945c5537871"
      },
      "source": [
        "np.sort(z)"
      ],
      "execution_count": null,
      "outputs": [
        {
          "output_type": "execute_result",
          "data": {
            "text/plain": [
              "array([ 0. ,  0. ,  0.8,  1. ,  1.6,  2. ,  2.4,  3. ,  3.2,  4. ,  4. ,\n",
              "        4.8,  5. ,  5.6,  6. ,  6.4,  7. ,  7.2,  8. ,  8. ,  8.8,  9. ,\n",
              "        9.6, 10. , 10.4, 11. , 11.2, 12. , 12. , 13. , 14. , 15. ])"
            ]
          },
          "metadata": {
            "tags": []
          },
          "execution_count": 91
        }
      ]
    },
    {
      "cell_type": "code",
      "metadata": {
        "id": "t9fEY1Sfg8P9",
        "colab": {
          "base_uri": "https://localhost:8080/",
          "height": 85
        },
        "outputId": "2222c8a0-f2f6-431a-850a-81159c43e252"
      },
      "source": [
        "j = np.multiply(i,num)\n",
        "print(j)"
      ],
      "execution_count": null,
      "outputs": [
        {
          "output_type": "stream",
          "text": [
            "[[  0.    0.8   3.2   7.2]\n",
            " [ 12.8  20.   28.8  39.2]\n",
            " [ 51.2  64.8  80.   96.8]\n",
            " [115.2 135.2 156.8 180. ]]\n"
          ],
          "name": "stdout"
        }
      ]
    },
    {
      "cell_type": "code",
      "metadata": {
        "id": "YtU6IJS7hr9r",
        "colab": {
          "base_uri": "https://localhost:8080/",
          "height": 102
        },
        "outputId": "ef9fc66e-68fa-4320-e42b-6a7fb3ceaa42"
      },
      "source": [
        "array1=np.array([[1,2,3],[4,5,6],[7,8,9]],ndmin=3)\n",
        "array2=np.array([[9,8,7],[6,5,4],[3,2,1]],ndmin=3)\n",
        "result=np.multiply(array1,array2)\n",
        "print('\\n result \\n',result)"
      ],
      "execution_count": null,
      "outputs": [
        {
          "output_type": "stream",
          "text": [
            "\n",
            " result \n",
            " [[[ 9 16 21]\n",
            "  [24 25 24]\n",
            "  [21 16  9]]]\n"
          ],
          "name": "stdout"
        }
      ]
    },
    {
      "cell_type": "code",
      "metadata": {
        "id": "JCstChv7hzQN",
        "colab": {
          "base_uri": "https://localhost:8080/",
          "height": 102
        },
        "outputId": "4ebd4138-f887-44d7-d268-a1e34ef050bf"
      },
      "source": [
        "#what is the use of append() function with axis=0 ?\n",
        "a=np.array([[1, 2, 3], [4, 5, 6], [7, 8, 9]])\n",
        "b=np.array([[11, 21, 31], [42, 52, 62], [73, 83, 93]])\n",
        "c=np.append(a,b,axis=1)\n",
        "print('\\n append function with axis = 0\\n ',c)"
      ],
      "execution_count": null,
      "outputs": [
        {
          "output_type": "stream",
          "text": [
            "\n",
            " append function with axis = 0\n",
            "  [[ 1  2  3 11 21 31]\n",
            " [ 4  5  6 42 52 62]\n",
            " [ 7  8  9 73 83 93]]\n"
          ],
          "name": "stdout"
        }
      ]
    },
    {
      "cell_type": "code",
      "metadata": {
        "id": "UA1z5EU5iDdy",
        "colab": {
          "base_uri": "https://localhost:8080/",
          "height": 85
        },
        "outputId": "6fb016bc-b41f-45e1-930e-9c1fad884f52"
      },
      "source": [
        "np.rint(i)"
      ],
      "execution_count": null,
      "outputs": [
        {
          "output_type": "execute_result",
          "data": {
            "text/plain": [
              "array([[ 0.,  1.,  2.,  2.],\n",
              "       [ 3.,  4.,  5.,  6.],\n",
              "       [ 6.,  7.,  8.,  9.],\n",
              "       [10., 10., 11., 12.]])"
            ]
          },
          "metadata": {
            "tags": []
          },
          "execution_count": 98
        }
      ]
    },
    {
      "cell_type": "code",
      "metadata": {
        "id": "_uwra49DihBj",
        "colab": {
          "base_uri": "https://localhost:8080/",
          "height": 51
        },
        "outputId": "72c4fc69-7284-44f3-877a-5ca91c627a23"
      },
      "source": [
        "#replacing element in array satisfying a particular condition without disturbing original array\n",
        "\n",
        "arr = np.arange(10)\n",
        "out = np.where(arr % 2 == 1, -1, arr)\n",
        "print(arr)\n",
        "out"
      ],
      "execution_count": null,
      "outputs": [
        {
          "output_type": "stream",
          "text": [
            "[0 1 2 3 4 5 6 7 8 9]\n"
          ],
          "name": "stdout"
        },
        {
          "output_type": "execute_result",
          "data": {
            "text/plain": [
              "array([ 0, -1,  2, -1,  4, -1,  6, -1,  8, -1])"
            ]
          },
          "metadata": {
            "tags": []
          },
          "execution_count": 99
        }
      ]
    },
    {
      "cell_type": "code",
      "metadata": {
        "id": "Bd_2ZnrpjFwz",
        "colab": {
          "base_uri": "https://localhost:8080/",
          "height": 51
        },
        "outputId": "2819f562-6524-4976-ede7-f84f2ea5da25"
      },
      "source": [
        "arr.reshape(2,-1)"
      ],
      "execution_count": null,
      "outputs": [
        {
          "output_type": "execute_result",
          "data": {
            "text/plain": [
              "array([[0, 1, 2, 3, 4],\n",
              "       [5, 6, 7, 8, 9]])"
            ]
          },
          "metadata": {
            "tags": []
          },
          "execution_count": 101
        }
      ]
    },
    {
      "cell_type": "code",
      "metadata": {
        "id": "H4i8WtQRjva1"
      },
      "source": [
        "#stack two arrays vertically\n",
        "a = np.arange(10).reshape(2,-1)\n",
        "b = np.repeat(1, 10).reshape(2,-1)\n"
      ],
      "execution_count": null,
      "outputs": []
    },
    {
      "cell_type": "code",
      "metadata": {
        "id": "H6vni1YMkEMs",
        "colab": {
          "base_uri": "https://localhost:8080/",
          "height": 85
        },
        "outputId": "3c2c0320-6330-47b9-f544-4d470e4ed1da"
      },
      "source": [
        "np.vstack([a, b])"
      ],
      "execution_count": null,
      "outputs": [
        {
          "output_type": "execute_result",
          "data": {
            "text/plain": [
              "array([[0, 1, 2, 3, 4],\n",
              "       [5, 6, 7, 8, 9],\n",
              "       [1, 1, 1, 1, 1],\n",
              "       [1, 1, 1, 1, 1]])"
            ]
          },
          "metadata": {
            "tags": []
          },
          "execution_count": 110
        }
      ]
    },
    {
      "cell_type": "code",
      "metadata": {
        "id": "gJReFnXWkw0Q",
        "colab": {
          "base_uri": "https://localhost:8080/",
          "height": 85
        },
        "outputId": "46c176fc-9b28-4ba4-99e3-c2e29379cde6"
      },
      "source": [
        "np.r_[a, b]\n"
      ],
      "execution_count": null,
      "outputs": [
        {
          "output_type": "execute_result",
          "data": {
            "text/plain": [
              "array([[0, 1, 2, 3, 4],\n",
              "       [5, 6, 7, 8, 9],\n",
              "       [1, 1, 1, 1, 1],\n",
              "       [1, 1, 1, 1, 1]])"
            ]
          },
          "metadata": {
            "tags": []
          },
          "execution_count": 111
        }
      ]
    },
    {
      "cell_type": "code",
      "metadata": {
        "id": "DAkMNDlQk0x_",
        "colab": {
          "base_uri": "https://localhost:8080/",
          "height": 34
        },
        "outputId": "87167ecc-d4ae-4d74-b878-1f3a7538a429"
      },
      "source": [
        "np.intersect1d(i,num)"
      ],
      "execution_count": null,
      "outputs": [
        {
          "output_type": "execute_result",
          "data": {
            "text/plain": [
              "array([ 0.,  4.,  8., 12.])"
            ]
          },
          "metadata": {
            "tags": []
          },
          "execution_count": 112
        }
      ]
    },
    {
      "cell_type": "code",
      "metadata": {
        "id": "6f2Q0Dt6mJl5",
        "colab": {
          "base_uri": "https://localhost:8080/",
          "height": 51
        },
        "outputId": "26f99d5b-d87e-4f54-ac6d-47f73da2be37"
      },
      "source": [
        "np.setdiff1d(i,num)"
      ],
      "execution_count": null,
      "outputs": [
        {
          "output_type": "execute_result",
          "data": {
            "text/plain": [
              "array([ 0.8,  1.6,  2.4,  3.2,  4.8,  5.6,  6.4,  7.2,  8.8,  9.6, 10.4,\n",
              "       11.2])"
            ]
          },
          "metadata": {
            "tags": []
          },
          "execution_count": 113
        }
      ]
    },
    {
      "cell_type": "code",
      "metadata": {
        "id": "I6MOtEdTmiLt"
      },
      "source": [
        ""
      ],
      "execution_count": null,
      "outputs": []
    }
  ]
}