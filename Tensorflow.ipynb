{
  "nbformat": 4,
  "nbformat_minor": 0,
  "metadata": {
    "colab": {
      "name": "Tensorflow.ipynb",
      "provenance": [],
      "authorship_tag": "ABX9TyMqYpgNpyNA/+fzHLDx+Lod",
      "include_colab_link": true
    },
    "kernelspec": {
      "name": "python3",
      "display_name": "Python 3"
    },
    "language_info": {
      "name": "python"
    }
  },
  "cells": [
    {
      "cell_type": "markdown",
      "metadata": {
        "id": "view-in-github",
        "colab_type": "text"
      },
      "source": [
        "<a href=\"https://colab.research.google.com/github/dikshap07/ML-Algorithms/blob/master/Tensorflow.ipynb\" target=\"_parent\"><img src=\"https://colab.research.google.com/assets/colab-badge.svg\" alt=\"Open In Colab\"/></a>"
      ]
    },
    {
      "cell_type": "code",
      "metadata": {
        "id": "wRhUSotR7UuY"
      },
      "source": [
        "import tensorflow as tf\n",
        "from tensorflow import constant"
      ],
      "execution_count": null,
      "outputs": []
    },
    {
      "cell_type": "code",
      "metadata": {
        "id": "5r1Tc0jD7aTG"
      },
      "source": [
        "#0 dimension tensor\n",
        "d0 = tf.ones((1,))\n",
        "\n",
        "#1 dimension tensor\n",
        "d1 = tf.ones((2,))\n",
        "\n",
        "#2 dimension tensor\n",
        "d2 = tf.ones((2,3))\n",
        "\n",
        "#3 dimension tensor\n",
        "d3  = tf.ones((2,2,2))"
      ],
      "execution_count": null,
      "outputs": []
    },
    {
      "cell_type": "code",
      "metadata": {
        "colab": {
          "base_uri": "https://localhost:8080/"
        },
        "id": "mDAAEXqA89bw",
        "outputId": "2749bea2-5787-4da1-bf9b-633a5b27674e"
      },
      "source": [
        "print(d3.numpy())"
      ],
      "execution_count": null,
      "outputs": [
        {
          "output_type": "stream",
          "text": [
            "[[[1. 1.]\n",
            "  [1. 1.]]\n",
            "\n",
            " [[1. 1.]\n",
            "  [1. 1.]]]\n"
          ],
          "name": "stdout"
        }
      ]
    },
    {
      "cell_type": "code",
      "metadata": {
        "id": "94WhGhy19kj4"
      },
      "source": [
        "#constants\n",
        "\n",
        "a = constant(3,shape = (2,2))\n",
        "b = constant([1,2,2,4],shape = (2,2))"
      ],
      "execution_count": null,
      "outputs": []
    },
    {
      "cell_type": "code",
      "metadata": {
        "id": "Lcli6bm5C00G"
      },
      "source": [
        "#diff ways to populate tensors\n",
        "\n",
        "k = tf.zeros() #populates tensor with arbitrary dimension with zeros\n",
        "i = tf.zeros_like(input_tensor) # populates tensor with dimension equal to that of input_tensor with zeros\n",
        "j = tf.ones_like(input_tensor)  # populates tensor with dimension equal to that of input_tensor with ones\n",
        "q = tf.fill([3,3],7)  # populates the given dimension tensor with 7"
      ],
      "execution_count": null,
      "outputs": []
    }
  ]
}